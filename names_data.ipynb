{
 "cells": [
  {
   "cell_type": "code",
   "execution_count": 1,
   "metadata": {},
   "outputs": [],
   "source": [
    "import pandas as pd\n",
    "\n",
    "DATA_PATH = r'/Users/igor 2/Documents/Netology/Python/py-adpy-10/names/'"
   ]
  },
  {
   "cell_type": "code",
   "execution_count": 2,
   "metadata": {},
   "outputs": [],
   "source": [
    "def count_top3(years):\n",
    "    result = list()\n",
    "    for year in years:\n",
    "        data = pd.read_csv(f'{DATA_PATH}yob{year}.txt', names=['Name', 'Sex', 'Quantity'])\n",
    "        result.append(data)\n",
    "    data = pd.concat(result).groupby(['Name'], as_index=False).sum().nlargest(3, 'Quantity')\n",
    "    return data['Name'].tolist()"
   ]
  },
  {
   "cell_type": "code",
   "execution_count": 3,
   "metadata": {},
   "outputs": [
    {
     "data": {
      "text/plain": [
       "['James', 'John', 'Robert']"
      ]
     },
     "execution_count": 3,
     "metadata": {},
     "output_type": "execute_result"
    }
   ],
   "source": [
    "count_top3([1900, 1950, 2000])"
   ]
  },
  {
   "cell_type": "code",
   "execution_count": 4,
   "metadata": {},
   "outputs": [],
   "source": [
    "def count_dynamics(years_list):\n",
    "    result = {'F': [], 'M':[]}\n",
    "    names_list = ['Name', 'Sex', 'Quantity']\n",
    "    for year in years_list:\n",
    "        data = pd.read_csv(f'{DATA_PATH}yob{year}.txt', names=names_list).groupby('Sex', as_index=False).count()\n",
    "        result['F'].append(data[data['Sex'] == 'F']['Name'].tolist()[0])\n",
    "        result['M'].append(data[data['Sex'] == 'M']['Name'].tolist()[0]) \n",
    "    return result"
   ]
  },
  {
   "cell_type": "code",
   "execution_count": 5,
   "metadata": {},
   "outputs": [
    {
     "data": {
      "text/plain": [
       "{'F': [2224, 6111, 17653], 'M': [1506, 4191, 12116]}"
      ]
     },
     "execution_count": 5,
     "metadata": {},
     "output_type": "execute_result"
    }
   ],
   "source": [
    "count_dynamics([1900, 1950, 2000])"
   ]
  },
  {
   "cell_type": "code",
   "execution_count": null,
   "metadata": {},
   "outputs": [],
   "source": []
  }
 ],
 "metadata": {
  "kernelspec": {
   "display_name": "Python 3",
   "language": "python",
   "name": "python3"
  },
  "language_info": {
   "codemirror_mode": {
    "name": "ipython",
    "version": 3
   },
   "file_extension": ".py",
   "mimetype": "text/x-python",
   "name": "python",
   "nbconvert_exporter": "python",
   "pygments_lexer": "ipython3",
   "version": "3.6.5"
  }
 },
 "nbformat": 4,
 "nbformat_minor": 2
}
